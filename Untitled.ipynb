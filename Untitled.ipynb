{
 "cells": [
  {
   "cell_type": "code",
   "execution_count": 19,
   "metadata": {
    "collapsed": true
   },
   "outputs": [],
   "source": [
    "%matplotlib inline\n",
    "import matplotlib.pyplot as plt\n",
    "import pandas as pd\n",
    "import imp\n",
    "from sqlalchemy import create_engine"
   ]
  },
  {
   "cell_type": "markdown",
   "metadata": {},
   "source": [
    "# TOC and elevation corrections\n",
    "\n",
    "Some further changes to the ICPW trends analysis are required:\n",
    "\n",
    " 1. Heleen has discovered some strange results for TOC for some of the Canadian sites (see e-mail received 14/03/2017 at 17.45) <br><br>\n",
    " \n",
    " 2. We now have elevation data for the remaining sites (see e-mail received 15/03/2017 at 08.37) <br><br>\n",
    " \n",
    " 3. Heleen would like a \"grid cell ID\" adding to the climate processing output (see e-mail received 15/03/2017 13.33)\n",
    " \n",
    "Having made the above changes, the whole climate data and trends analysis needs re-running. This notebook deals with points 1 and 2 above; point 3 requires a small modification to the existing climate code.\n",
    "\n",
    "## 1. Correct TOC\n",
    "\n",
    "This is a bit more complicated than it first appears. It looks as though a lot of dupicate data was uploaded to the database at some point, and some of the duplicates have incorrect method names. For the Ontairo lakes, the same values have been uploaded both as DOC (in mg-C/l) and as \"DOCx\", which is in umol-C/l. The conversion factor from DOCx to DOC is therefore 0.012, which is very close to Heleen's estimated correction factor of dividing by 100. The problem is that the database appears to be selecting which values to display more-or-less at random. This is illustrated below."
   ]
  },
  {
   "cell_type": "code",
   "execution_count": 22,
   "metadata": {
    "collapsed": false
   },
   "outputs": [],
   "source": [
    "# Create db connection\n",
    "r2_func_path = r'C:\\Data\\James_Work\\Staff\\Heleen_d_W\\ICP_Waters\\Upload_Template\\useful_resa2_code.py'\n",
    "resa2 = imp.load_source('useful_resa2_code', r2_func_path)\n",
    "\n",
    "engine, conn = resa2.connect_to_resa2()"
   ]
  },
  {
   "cell_type": "code",
   "execution_count": 23,
   "metadata": {
    "collapsed": false
   },
   "outputs": [
    {
     "data": {
      "text/html": [
       "<div>\n",
       "<table border=\"1\" class=\"dataframe\">\n",
       "  <thead>\n",
       "    <tr style=\"text-align: right;\">\n",
       "      <th></th>\n",
       "      <th>value_id</th>\n",
       "      <th>sample_id</th>\n",
       "      <th>method_id</th>\n",
       "      <th>value</th>\n",
       "      <th>flag1</th>\n",
       "      <th>flag2</th>\n",
       "      <th>approved</th>\n",
       "      <th>remark</th>\n",
       "      <th>entered_by</th>\n",
       "      <th>entered_date</th>\n",
       "      <th>detection_limit</th>\n",
       "      <th>labware_status</th>\n",
       "    </tr>\n",
       "  </thead>\n",
       "  <tbody>\n",
       "    <tr>\n",
       "      <th>0</th>\n",
       "      <td>4011483</td>\n",
       "      <td>330853</td>\n",
       "      <td>10294</td>\n",
       "      <td>290</td>\n",
       "      <td>None</td>\n",
       "      <td>None</td>\n",
       "      <td>YES</td>\n",
       "      <td>None</td>\n",
       "      <td>RESA2</td>\n",
       "      <td>2006-03-21 14:07:47</td>\n",
       "      <td>None</td>\n",
       "      <td>None</td>\n",
       "    </tr>\n",
       "    <tr>\n",
       "      <th>1</th>\n",
       "      <td>3688111</td>\n",
       "      <td>330853</td>\n",
       "      <td>10313</td>\n",
       "      <td>290</td>\n",
       "      <td>None</td>\n",
       "      <td>None</td>\n",
       "      <td>YES</td>\n",
       "      <td>None</td>\n",
       "      <td>RESA2</td>\n",
       "      <td>2006-02-17 13:38:39</td>\n",
       "      <td>None</td>\n",
       "      <td>None</td>\n",
       "    </tr>\n",
       "  </tbody>\n",
       "</table>\n",
       "</div>"
      ],
      "text/plain": [
       "   value_id  sample_id  method_id  value flag1 flag2 approved remark  \\\n",
       "0   4011483     330853      10294    290  None  None      YES   None   \n",
       "1   3688111     330853      10313    290  None  None      YES   None   \n",
       "\n",
       "   entered_by        entered_date detection_limit labware_status  \n",
       "0  RESA2      2006-03-21 14:07:47            None           None  \n",
       "1  RESA2      2006-02-17 13:38:39            None           None  "
      ]
     },
     "execution_count": 23,
     "metadata": {},
     "output_type": "execute_result"
    }
   ],
   "source": [
    "# Get example data\n",
    "sql = (\"SELECT * FROM resa2.water_chemistry_values2 \"\n",
    "       \"WHERE sample_id = (SELECT water_sample_id \"\n",
    "                          \"FROM resa2.water_samples \"\n",
    "                          \"WHERE station_id = 23466 \"\n",
    "                          \"AND sample_date = DATE '2000-05-23') \"\n",
    "       \"AND method_id IN (10313, 10294)\")\n",
    "\n",
    "df = pd.read_sql_query(sql, engine)\n",
    "\n",
    "df"
   ]
  },
  {
   "cell_type": "markdown",
   "metadata": {},
   "source": [
    "`method_id=10294` is DOC in mg-C/l, whereas `method_id=10313` is DOCx in umol-C/l. Both were uploaded within the space of a few weeks back in 2006. I assume that the values with `method_id=10313` are correct, and those with `method_id=10294` are wrong. \n",
    "\n",
    "It seems as though, when both methods are present, RESA2 preferentially chooses `method_id=10313`, which is why most of the data look OK. However, if `method_id=10313` is not available, the database uses the values for `method_id=10294` instead, and these values are wrong. The problem is that this selection isn't deliberate: the database only prefers `method_id=10313` because it appears lower in the table than `method_id=10294`. Essentially, it's just a fluke that most of the data turn out OK - it could easily have been the other way around.\n",
    "\n",
    "To fix this, I need to:\n",
    "\n",
    " 1. Go through all the samples from the Ontario sites and see whether there are values for both `method_id=10313` and `method_id=10294` <br><br>\n",
    " \n",
    " 2. If yes, see whether the raw values are the same. If so, delete the value for `method_id=10294` <br><br>\n",
    " \n",
    " 3. If values are only entered with `method_id=10294`, check to see whether they are too large and, if so, switch the `method_id` to `10313`\n",
    " \n",
    "This is done below."
   ]
  },
  {
   "cell_type": "code",
   "execution_count": 33,
   "metadata": {
    "collapsed": false
   },
   "outputs": [
    {
     "name": "stdout",
     "output_type": "stream",
     "text": [
      "Finished.\n"
     ]
    }
   ],
   "source": [
    "# Get a list of all water samples associated with\n",
    "# stations in the 'ICPW_TOCTRENDS_2015_CA_ICPW' project\n",
    "sql = (\"SELECT water_sample_id FROM resa2.water_samples \"\n",
    "       \"WHERE station_id IN ( \"\n",
    "         \"SELECT station_id FROM resa2.stations \"\n",
    "         \"WHERE station_id IN ( \"\n",
    "           \"SELECT station_id FROM resa2.projects_stations \"\n",
    "           \"WHERE project_id IN ( \"\n",
    "             \"SELECT project_id FROM resa2.projects \"\n",
    "             \"WHERE project_name = 'ICPW_TOCTRENDS_2015_CA_ICPW')))\")\n",
    "     \n",
    "samp_df = pd.read_sql_query(sql, engine)\n",
    "\n",
    "# Loop over samples and check whether both method_ids are present\n",
    "for samp_id in samp_df['water_sample_id'].values:\n",
    "    # Get data for this sample\n",
    "    sql = (\"SELECT method_id, value \"\n",
    "           \"FROM resa2.water_chemistry_values2 \"\n",
    "           \"WHERE sample_id = %s \"\n",
    "           \"AND method_id IN (10294, 10313)\" % samp_id)\n",
    "    df = pd.read_sql_query(sql, engine)\n",
    "    df.index = df['method_id']\n",
    "    del df['method_id']\n",
    "    \n",
    "    # How many entries for DOC?\n",
    "    if len(df) == 1:\n",
    "        # We have just one of the two methods\n",
    "        if df.index[0] == 10294:\n",
    "            # Should be DOC in mg-C/l and values should be <50\n",
    "            if df['value'].values[0] > 50:\n",
    "                # Method_ID must be wrong\n",
    "                sql = ('UPDATE resa2.water_chemistry_values2 '\n",
    "                       'SET method_id = 10313 '\n",
    "                       'WHERE sample_id = %s '\n",
    "                       'AND method_id = 10294' % samp_id)\n",
    "                result = conn.execute(sql)\n",
    "    \n",
    "    # Otherwise we have both methods\n",
    "    elif len(df) == 2:\n",
    "        # Are they the same and large?\n",
    "        if (df.loc[10313].value == df.loc[10294].value) and (df.loc[10313].value > 50):\n",
    "            # Delete record for method_id=10294\n",
    "            sql = ('DELETE FROM resa2.water_chemistry_values2 '\n",
    "                   'WHERE sample_id = %s '\n",
    "                   'AND method_id = 10294' % samp_id)\n",
    "            result = conn.execute(sql)\n",
    "\n",
    "print 'Finished.'"
   ]
  },
  {
   "cell_type": "markdown",
   "metadata": {},
   "source": [
    "## 2. Update station elevations"
   ]
  },
  {
   "cell_type": "markdown",
   "metadata": {},
   "source": [
    "Heleen has provided the missing elevation data, which I copied here:\n",
    "\n",
    "C:\\Data\\James_Work\\Staff\\Heleen_d_W\\ICP_Waters\\TOC_Trends_Analysis_2015\\CRU_Climate_Data\\missing_elev_data.xlsx"
   ]
  },
  {
   "cell_type": "code",
   "execution_count": 36,
   "metadata": {
    "collapsed": false
   },
   "outputs": [
    {
     "name": "stdout",
     "output_type": "stream",
     "text": [
      "120\n",
      "170\n",
      "87\n",
      "86\n",
      "100\n",
      "120\n",
      "113\n",
      "105\n",
      "100\n",
      "90\n",
      "129\n",
      "160\n",
      "100\n",
      "90\n",
      "135\n",
      "105\n",
      "98\n",
      "665\n",
      "571\n",
      "457\n",
      "673\n",
      "30\n",
      "61\n",
      "197\n",
      "130\n",
      "73\n",
      "43\n",
      "152\n",
      "150\n",
      "300\n",
      "236\n"
     ]
    }
   ],
   "source": [
    "# Read elev data\n",
    "in_xlsx = (r'C:\\Data\\James_Work\\Staff\\Heleen_d_W\\ICP_Waters\\TOC_Trends_Analysis_2015'\n",
    "           r'\\CRU_Climate_Data\\missing_elev_data.xlsx')\n",
    "elev_df = pd.read_excel(in_xlsx)\n",
    "elev_df.index = elev_df['station_id']\n",
    "\n",
    "# Loop over stations and update info\n",
    "for stn_id in elev_df['station_id'].values:\n",
    "    # Get elev\n",
    "    elev = elev_df.loc[stn_id]['altitude']\n",
    "\n",
    "    # Update rows\n",
    "    sql = ('UPDATE resa2.stations '\n",
    "           'SET altitude = %s '\n",
    "           'WHERE station_id = %s' % (elev, stn_id))\n",
    "    result = conn.execute(sql)"
   ]
  }
 ],
 "metadata": {
  "kernelspec": {
   "display_name": "Python 2",
   "language": "python",
   "name": "python2"
  },
  "language_info": {
   "codemirror_mode": {
    "name": "ipython",
    "version": 2
   },
   "file_extension": ".py",
   "mimetype": "text/x-python",
   "name": "python",
   "nbconvert_exporter": "python",
   "pygments_lexer": "ipython2",
   "version": "2.7.10"
  }
 },
 "nbformat": 4,
 "nbformat_minor": 0
}
