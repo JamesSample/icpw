{
 "cells": [
  {
   "cell_type": "code",
   "execution_count": null,
   "metadata": {
    "collapsed": true
   },
   "outputs": [],
   "source": [
    "%matplotlib inline\n",
    "import pandas as pd\n",
    "import numpy as np\n",
    "import nivapy3 as nivapy\n",
    "import matplotlib.pyplot as plt\n",
    "from sqlalchemy import types\n",
    "\n",
    "plt.style.use('ggplot')"
   ]
  },
  {
   "cell_type": "code",
   "execution_count": null,
   "metadata": {},
   "outputs": [],
   "source": [
    "# Connect to db\n",
    "eng = nivapy.da.connect()"
   ]
  },
  {
   "cell_type": "markdown",
   "metadata": {},
   "source": [
    "# Upload ICPW template to RESA2\n",
    "\n",
    "This notebook can be used to upload data from the [ICPW template](http://www.icp-waters.no/data/submit-data/) to the RESA2 database.\n",
    "\n",
    "## 1. Format the template\n",
    "\n",
    "### 1.1. General QA\n",
    "\n",
    " * Are the correct ICPW codes present?\n",
    " * Remove any blank rows\n",
    " * Do the numbers look reasonable?\n",
    " * Do any cells contain anything other than numbers or '<'?\n",
    "\n",
    "### 1.2. Check column headings\n",
    "\n",
    "The tidied template should have a single row of column headings where each entry corresponds to a method in the `WC_METHOD_DEFINITIONS` table. Open `WC_METHOD_DEFINITIONS` and filter `LABORATORY=ICPW`. You then need to find the correct method *with the correct units* and set the column heading in the template equal to the `NAME` attribute in the `WC_METHOD_DEFINITIONS` table.\n",
    "\n",
    "**NB:** Take particular care with alkalinity (which is often reported awkwardly) and also with whether people are reporting e.g. $NO_3$ or $NO_3-N$.\n",
    "\n",
    "Delete the `Name` column - the only identifier columns should be `Code` and `Date`.\n",
    "\n",
    "### 1.3. Check data types\n",
    "\n",
    "**Delete** any unused columns from the template (and also delete Bente's QA/QC columns).\n",
    "\n",
    "Make sure the `Date` column is formated as an Excel date using `dd.mm.yyyy` and format all other columns as **text**.\n",
    "\n",
    "## 2. Check data"
   ]
  },
  {
   "cell_type": "code",
   "execution_count": null,
   "metadata": {},
   "outputs": [],
   "source": [
    "# Path to template to process\n",
    "in_xlsx = (r'../../../Call_For_data_2018/replies'\n",
    "           r'/netherlands/icpw_toc_trends_nl_tidied_core.xls')"
   ]
  },
  {
   "cell_type": "code",
   "execution_count": null,
   "metadata": {
    "collapsed": true
   },
   "outputs": [],
   "source": [
    "# Read useful tables from database\n",
    "# Stations\n",
    "sql = ('SELECT UNIQUE(station_code) '\n",
    "       'FROM resa2.stations')\n",
    "stn_df = pd.read_sql_query(sql, eng)\n",
    "\n",
    "# Methods\n",
    "sql = (\"SELECT UNIQUE(name) \"\n",
    "       \"FROM resa2.wc_method_definitions \"\n",
    "       \"WHERE laboratory='ICPW'\")\n",
    "meth_df = pd.read_sql_query(sql, eng)"
   ]
  },
  {
   "cell_type": "code",
   "execution_count": null,
   "metadata": {
    "collapsed": false,
    "scrolled": false
   },
   "outputs": [],
   "source": [
    "# Read template\n",
    "df = pd.read_excel(in_xlsx, sheet_name='Data')\n",
    "\n",
    "# Check template\n",
    "# 1. Check code and date cols exist\n",
    "assert list(df.columns[:2]) == ['Code', 'Date'], 'The first two columns must be \"Code\" and \"Date\".'\n",
    "\n",
    "# 2. Station codes are already in database?\n",
    "if not set(stn_df['station_code']).issuperset(set(df['Code'])):\n",
    "    print ('The following site codes are not in the database:')\n",
    "    for site in list(set(df['Code']) - set(stn_df['station_code'])):\n",
    "        print ('    %s' % site)\n",
    "        \n",
    "# 3. Check method column headings\n",
    "temp_meths = df.columns\n",
    "temp_meths = [i for i in temp_meths if i not in ('Code', 'Date')]\n",
    "\n",
    "if not set(meth_df['name']).issuperset(set(temp_meths)):\n",
    "    print ('The following methods are not in the database:')\n",
    "    for meth in list(set(temp_meths) - set(meth_df['name'])):\n",
    "        print ('    %s' % meth)\n",
    "        \n",
    "# 4. Check for duplicates\n",
    "if df.duplicated(['Code', 'Date']).sum() > 0:\n",
    "    print ('There are %s duplicated records:' % df.duplicated(['Code', 'Date']).sum())\n",
    "    print ('\\n', df[['Code', 'Date']][df.duplicated(['Code', 'Date'], keep=False)])"
   ]
  },
  {
   "cell_type": "code",
   "execution_count": null,
   "metadata": {},
   "outputs": [],
   "source": [
    "# Drop duplicates (at random - use with caution!)\n",
    "df = df.drop_duplicates(subset=['Code', 'Date'])"
   ]
  },
  {
   "cell_type": "markdown",
   "metadata": {},
   "source": [
    "## 3. Append sample dates"
   ]
  },
  {
   "cell_type": "code",
   "execution_count": null,
   "metadata": {
    "collapsed": false
   },
   "outputs": [],
   "source": [
    "# Append sample dates\n",
    "# Get station_ids\n",
    "sql = ('SELECT station_id, station_code '\n",
    "       'FROM resa2.stations')\n",
    "stn_df = pd.read_sql_query(sql, eng)\n",
    "\n",
    "# Join\n",
    "samp_df = pd.merge(df, stn_df, how='left',\n",
    "                   left_on='Code', right_on='station_code')\n",
    "\n",
    "# Get cols and rename\n",
    "ws_df = samp_df[['station_id', 'Date']].copy()\n",
    "ws_df.columns = ['station_id', 'sample_date']\n",
    "\n",
    "# Assume all depths are zero\n",
    "ws_df['depth1'] = 0\n",
    "ws_df['depth2'] = 0\n",
    "\n",
    "ws_df.head()"
   ]
  },
  {
   "cell_type": "code",
   "execution_count": null,
   "metadata": {
    "collapsed": false
   },
   "outputs": [],
   "source": [
    "# Improve performance by explicitly setting dtypes. See\n",
    "# https://stackoverflow.com/a/42769557/505698\n",
    "dtypes = {c:types.VARCHAR(ws_df[c].str.len().max())\n",
    "          for c in ws_df.columns[ws_df.dtypes == 'object'].tolist()}\n",
    "\n",
    "# Add data to 'water_samples'\n",
    "ws_df.to_sql(name='water_samples', \n",
    "             schema='resa2',\n",
    "             con=eng, \n",
    "             if_exists='append', \n",
    "             index=False,\n",
    "             dtype=dtypes)"
   ]
  },
  {
   "cell_type": "markdown",
   "metadata": {},
   "source": [
    "## 4. Restructure chemistry data"
   ]
  },
  {
   "cell_type": "code",
   "execution_count": null,
   "metadata": {
    "collapsed": true
   },
   "outputs": [],
   "source": [
    "def f(row):\n",
    "    \"\"\" Function to deal with flags.\n",
    "    \"\"\"\n",
    "    if '<' in row['value_']:\n",
    "        val = '<'\n",
    "    elif '>' in row['value_']:\n",
    "        val = '>'\n",
    "    else:\n",
    "        val = np.nan\n",
    "    return val"
   ]
  },
  {
   "cell_type": "code",
   "execution_count": null,
   "metadata": {
    "collapsed": false
   },
   "outputs": [],
   "source": [
    "# Get unique list of stations associated with these samples\n",
    "stn_ids = samp_df['station_id'].unique()\n",
    "\n",
    "# Get list of sample_ids for these samples\n",
    "if len(stn_ids) == 1:\n",
    "    sql = ('SELECT water_sample_id, station_id, sample_date '\n",
    "           'FROM resa2.water_samples '\n",
    "           'WHERE station_id = %s' % stn_ids[0])\n",
    "else:    \n",
    "    stn_ids = str(tuple(stn_ids))\n",
    "    sql = ('SELECT water_sample_id, station_id, sample_date '\n",
    "           'FROM resa2.water_samples '\n",
    "           'WHERE station_id IN %s' % stn_ids)\n",
    "ws_df = pd.read_sql_query(sql, eng)\n",
    "\n",
    "# Join sample id to chemistry\n",
    "chem_df = pd.merge(samp_df, ws_df, how='left',\n",
    "                   left_on=['station_id', 'Date'],\n",
    "                   right_on=['station_id', 'sample_date'])\n",
    "\n",
    "# Extract just cols of interest\n",
    "chem_df = chem_df[['water_sample_id',] + temp_meths]\n",
    "\n",
    "# Convert to long format\n",
    "chem_df = pd.melt(chem_df, id_vars='water_sample_id')\n",
    "\n",
    "# Get method ids\n",
    "sql = (\"SELECT wc_method_id, name \"\n",
    "       \"FROM resa2.wc_method_definitions \"\n",
    "       \"WHERE laboratory='ICPW'\")\n",
    "meth_df = pd.read_sql_query(sql, eng)\n",
    "\n",
    "# Join to chem\n",
    "chem_df = pd.merge(chem_df, meth_df, how='left',\n",
    "                   left_on='variable', right_on='name')\n",
    "chem_df = chem_df[['water_sample_id', 'wc_method_id', 'value']]\n",
    "chem_df.columns = ['sample_id', 'method_id', 'value_']\n",
    "\n",
    "# Drop NaNs\n",
    "chem_df.dropna(how='any', inplace=True)\n",
    "\n",
    "# Deal with flags\n",
    "chem_df['value_'] = chem_df['value_'].astype(str)\n",
    "chem_df['flag1'] = chem_df.apply(f, axis=1)\n",
    "\n",
    "# Extract numeric chars\n",
    "chem_df['value'] = chem_df['value_'].str.extract(\"([-+]?\\d*\\.\\d+|\\d+)\", expand=True)\n",
    "chem_df['value'] = chem_df['value'].astype(float)\n",
    "del chem_df['value_']\n",
    "\n",
    "# Reorder cols\n",
    "chem_df = chem_df[['sample_id', 'method_id', 'value', 'flag1']]\n",
    "\n",
    "# Check flags are consistent\n",
    "if not pd.isnull(chem_df['flag1']).all():\n",
    "    if not set(chem_df['flag1'].unique()).issubset(['<', '>', np.nan]):\n",
    "        print ('Some flags are not valid:')\n",
    "        print (chem_df['flag1'].unique())\n",
    "\n",
    "chem_df.head()"
   ]
  },
  {
   "cell_type": "markdown",
   "metadata": {},
   "source": [
    "## 5. Load chemistry data"
   ]
  },
  {
   "cell_type": "code",
   "execution_count": null,
   "metadata": {
    "collapsed": false
   },
   "outputs": [],
   "source": [
    "# Improve performance by explicitly setting dtypes. See\n",
    "# https://stackoverflow.com/a/42769557/505698\n",
    "dtypes = {c:types.VARCHAR(chem_df[c].str.len().max())\n",
    "          for c in chem_df.columns[chem_df.dtypes == 'object'].tolist()}\n",
    "\n",
    "# Add data to 'water_chemistry_values2'\n",
    "chem_df.to_sql(name='water_chemistry_values2', \n",
    "               schema='resa2',\n",
    "               con=eng, \n",
    "               if_exists='append', \n",
    "               index=False,\n",
    "               dtype=dtypes)"
   ]
  }
 ],
 "metadata": {
  "kernelspec": {
   "display_name": "Python 3",
   "language": "python",
   "name": "python3"
  },
  "language_info": {
   "codemirror_mode": {
    "name": "ipython",
    "version": 3
   },
   "file_extension": ".py",
   "mimetype": "text/x-python",
   "name": "python",
   "nbconvert_exporter": "python",
   "pygments_lexer": "ipython3",
   "version": "3.6.8"
  }
 },
 "nbformat": 4,
 "nbformat_minor": 2
}
