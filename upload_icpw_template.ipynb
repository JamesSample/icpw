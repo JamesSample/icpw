{
 "cells": [
  {
   "cell_type": "code",
   "execution_count": 1,
   "metadata": {},
   "outputs": [],
   "source": [
    "%matplotlib inline\n",
    "import os\n",
    "import shutil\n",
    "\n",
    "import matplotlib.pyplot as plt\n",
    "import nivapy3 as nivapy\n",
    "import numpy as np\n",
    "import pandas as pd\n",
    "from sqlalchemy import types\n",
    "\n",
    "plt.style.use(\"ggplot\")"
   ]
  },
  {
   "cell_type": "code",
   "execution_count": 2,
   "metadata": {},
   "outputs": [
    {
     "name": "stdin",
     "output_type": "stream",
     "text": [
      "Username:  ···\n",
      "Password:  ········\n"
     ]
    },
    {
     "name": "stdout",
     "output_type": "stream",
     "text": [
      "Connection successful.\n"
     ]
    }
   ],
   "source": [
    "# Connect to db\n",
    "eng = nivapy.da.connect()"
   ]
  },
  {
   "cell_type": "markdown",
   "metadata": {},
   "source": [
    "# Upload ICPW template to RESA2\n",
    "\n",
    "This notebook can be used to upload data from the [ICPW template](http://www.icp-waters.no/data/submit-data/) to the RESA2 database.\n",
    "\n",
    "## 1. Format the template\n",
    "\n",
    "### 1.1. General QA\n",
    "\n",
    " * Are the correct ICPW codes present?\n",
    " * Remove any blank rows\n",
    " * Do the numbers look reasonable?\n",
    " * Do any cells contain anything other than numbers or '<'?\n",
    "\n",
    "### 1.2. Check column headings\n",
    "\n",
    "The tidied template should have a single row of column headings where each entry corresponds to a method in the `WC_METHOD_DEFINITIONS` table. Open `WC_METHOD_DEFINITIONS` and filter `LABORATORY=ICPW`. You then need to find the correct method *with the correct units* and set the column heading in the template equal to the `NAME` attribute in the `WC_METHOD_DEFINITIONS` table.\n",
    "\n",
    "**NB:** Take particular care with alkalinity (which is often reported awkwardly) and also with whether people are reporting e.g. $NO_3$ or $NO_3-N$.\n",
    "\n",
    "Delete the `Name` column - the only identifier columns should be `Code` and `Date`.\n",
    "\n",
    "### 1.3. Check data types\n",
    "\n",
    "**Delete** any unused columns from the template (and also delete Bente's QA/QC columns).\n",
    "\n",
    "Make sure the `Date` column is formated as an Excel date using `dd.mm.yyyy` and format all other columns as **text**.\n",
    "\n",
    "## 2. Check data"
   ]
  },
  {
   "cell_type": "code",
   "execution_count": 3,
   "metadata": {},
   "outputs": [],
   "source": [
    "# Path to template to process\n",
    "in_xlsx = r\"../../../Call_for_Data_2020/data_to_upload_mar_2021/tidied/icpw_template_ireland_2018-19_jes_tidied.xls\" "
   ]
  },
  {
   "cell_type": "code",
   "execution_count": 4,
   "metadata": {},
   "outputs": [],
   "source": [
    "# Read useful tables from database\n",
    "# Stations\n",
    "sql = \"SELECT UNIQUE(station_code) FROM resa2.stations\"\n",
    "stn_df = pd.read_sql_query(sql, eng)\n",
    "\n",
    "# Methods\n",
    "sql = \"SELECT UNIQUE(name) FROM resa2.wc_method_definitions WHERE laboratory='ICPW'\"\n",
    "meth_df = pd.read_sql_query(sql, eng)"
   ]
  },
  {
   "cell_type": "code",
   "execution_count": 6,
   "metadata": {
    "collapsed": false,
    "jupyter": {
     "outputs_hidden": false
    }
   },
   "outputs": [
    {
     "name": "stdout",
     "output_type": "stream",
     "text": [
      "There are 124 duplicated records:\n",
      "\n",
      "      Code       Date\n",
      "30   IE14 2018-01-16\n",
      "31   IE14 2018-01-16\n",
      "32   IE14 2018-02-13\n",
      "33   IE14 2018-02-13\n",
      "34   IE14 2018-03-21\n",
      "..    ...        ...\n",
      "254  IE08 2019-08-12\n",
      "255  IE08 2019-09-23\n",
      "256  IE08 2019-09-23\n",
      "257  IE08 2019-11-11\n",
      "258  IE08 2019-11-11\n",
      "\n",
      "[188 rows x 2 columns]\n"
     ]
    }
   ],
   "source": [
    "# Read template\n",
    "df = pd.read_excel(in_xlsx, sheet_name=\"Data\")\n",
    "\n",
    "# Check template\n",
    "# 1. Check code and date cols exist\n",
    "assert list(df.columns[:2]) == [\n",
    "    \"Code\",\n",
    "    \"Date\",\n",
    "], 'The first two columns must be \"Code\" and \"Date\".'\n",
    "\n",
    "# 2. Station codes are already in database?\n",
    "if not set(stn_df[\"station_code\"]).issuperset(set(df[\"Code\"])):\n",
    "    print(\"The following site codes are not in the database:\")\n",
    "    for site in list(set(df[\"Code\"]) - set(stn_df[\"station_code\"])):\n",
    "        print(\"    %s\" % site)\n",
    "\n",
    "# 3. Check method column headings\n",
    "temp_meths = df.columns\n",
    "temp_meths = [i for i in temp_meths if i not in (\"Code\", \"Date\")]\n",
    "\n",
    "if not set(meth_df[\"name\"]).issuperset(set(temp_meths)):\n",
    "    print(\"The following methods are not in the database:\")\n",
    "    for meth in list(set(temp_meths) - set(meth_df[\"name\"])):\n",
    "        print(\"    %s\" % meth)\n",
    "\n",
    "# 4. Check for duplicates\n",
    "if df.duplicated([\"Code\", \"Date\"]).sum() > 0:\n",
    "    print(\"There are %s duplicated records:\" % df.duplicated([\"Code\", \"Date\"]).sum())\n",
    "    print(\"\\n\", df[[\"Code\", \"Date\"]][df.duplicated([\"Code\", \"Date\"], keep=False)])"
   ]
  },
  {
   "cell_type": "markdown",
   "metadata": {},
   "source": [
    "**Make sure that only one of the two cells below is uncommented!**"
   ]
  },
  {
   "cell_type": "code",
   "execution_count": null,
   "metadata": {},
   "outputs": [],
   "source": [
    "# # Drop duplicates (at random - use with caution!)\n",
    "# df = df.drop_duplicates(subset=[\"Code\", \"Date\"])"
   ]
  },
  {
   "cell_type": "code",
   "execution_count": 7,
   "metadata": {},
   "outputs": [],
   "source": [
    "# Average duplicates (use with caution!)\n",
    "df = df.groupby(['Code', 'Date']).mean()\n",
    "df.reset_index(inplace=True)"
   ]
  },
  {
   "cell_type": "markdown",
   "metadata": {},
   "source": [
    "## 3. Append sample dates"
   ]
  },
  {
   "cell_type": "code",
   "execution_count": 8,
   "metadata": {
    "collapsed": false,
    "jupyter": {
     "outputs_hidden": false
    }
   },
   "outputs": [
    {
     "data": {
      "text/html": [
       "<div>\n",
       "<style scoped>\n",
       "    .dataframe tbody tr th:only-of-type {\n",
       "        vertical-align: middle;\n",
       "    }\n",
       "\n",
       "    .dataframe tbody tr th {\n",
       "        vertical-align: top;\n",
       "    }\n",
       "\n",
       "    .dataframe thead th {\n",
       "        text-align: right;\n",
       "    }\n",
       "</style>\n",
       "<table border=\"1\" class=\"dataframe\">\n",
       "  <thead>\n",
       "    <tr style=\"text-align: right;\">\n",
       "      <th></th>\n",
       "      <th>station_id</th>\n",
       "      <th>sample_date</th>\n",
       "      <th>depth1</th>\n",
       "      <th>depth2</th>\n",
       "    </tr>\n",
       "  </thead>\n",
       "  <tbody>\n",
       "    <tr>\n",
       "      <th>0</th>\n",
       "      <td>23552</td>\n",
       "      <td>2018-03-21</td>\n",
       "      <td>0</td>\n",
       "      <td>0</td>\n",
       "    </tr>\n",
       "    <tr>\n",
       "      <th>1</th>\n",
       "      <td>23552</td>\n",
       "      <td>2018-04-02</td>\n",
       "      <td>0</td>\n",
       "      <td>0</td>\n",
       "    </tr>\n",
       "    <tr>\n",
       "      <th>2</th>\n",
       "      <td>23552</td>\n",
       "      <td>2018-07-23</td>\n",
       "      <td>0</td>\n",
       "      <td>0</td>\n",
       "    </tr>\n",
       "    <tr>\n",
       "      <th>3</th>\n",
       "      <td>23552</td>\n",
       "      <td>2018-08-20</td>\n",
       "      <td>0</td>\n",
       "      <td>0</td>\n",
       "    </tr>\n",
       "    <tr>\n",
       "      <th>4</th>\n",
       "      <td>23552</td>\n",
       "      <td>2018-11-12</td>\n",
       "      <td>0</td>\n",
       "      <td>0</td>\n",
       "    </tr>\n",
       "  </tbody>\n",
       "</table>\n",
       "</div>"
      ],
      "text/plain": [
       "   station_id sample_date  depth1  depth2\n",
       "0       23552  2018-03-21       0       0\n",
       "1       23552  2018-04-02       0       0\n",
       "2       23552  2018-07-23       0       0\n",
       "3       23552  2018-08-20       0       0\n",
       "4       23552  2018-11-12       0       0"
      ]
     },
     "execution_count": 8,
     "metadata": {},
     "output_type": "execute_result"
    }
   ],
   "source": [
    "# Append sample dates\n",
    "# Get station_ids\n",
    "sql = \"SELECT station_id, station_code FROM resa2.stations\"\n",
    "stn_df = pd.read_sql_query(sql, eng)\n",
    "\n",
    "# Join\n",
    "samp_df = pd.merge(df, stn_df, how=\"left\", left_on=\"Code\", right_on=\"station_code\")\n",
    "\n",
    "# Get cols and rename\n",
    "ws_df = samp_df[[\"station_id\", \"Date\"]].copy()\n",
    "ws_df.columns = [\"station_id\", \"sample_date\"]\n",
    "\n",
    "# Assume all depths are zero\n",
    "ws_df[\"depth1\"] = 0\n",
    "ws_df[\"depth2\"] = 0\n",
    "\n",
    "ws_df.head()"
   ]
  },
  {
   "cell_type": "code",
   "execution_count": 9,
   "metadata": {
    "collapsed": false,
    "jupyter": {
     "outputs_hidden": false
    }
   },
   "outputs": [],
   "source": [
    "# Improve performance by explicitly setting dtypes. See\n",
    "# https://stackoverflow.com/a/42769557/505698\n",
    "dtypes = {\n",
    "    c: types.VARCHAR(ws_df[c].str.len().max())\n",
    "    for c in ws_df.columns[ws_df.dtypes == \"object\"].tolist()\n",
    "}\n",
    "\n",
    "# Add data to 'water_samples'\n",
    "ws_df.to_sql(\n",
    "    name=\"water_samples\",\n",
    "    schema=\"resa2\",\n",
    "    con=eng,\n",
    "    if_exists=\"append\",\n",
    "    index=False,\n",
    "    dtype=dtypes,\n",
    ")"
   ]
  },
  {
   "cell_type": "markdown",
   "metadata": {},
   "source": [
    "## 4. Restructure chemistry data"
   ]
  },
  {
   "cell_type": "code",
   "execution_count": 10,
   "metadata": {},
   "outputs": [],
   "source": [
    "def f(row):\n",
    "    \"\"\"Function to deal with flags.\"\"\"\n",
    "    if \"<\" in row[\"value_\"]:\n",
    "        val = \"<\"\n",
    "    elif \">\" in row[\"value_\"]:\n",
    "        val = \">\"\n",
    "    else:\n",
    "        val = np.nan\n",
    "    return val"
   ]
  },
  {
   "cell_type": "code",
   "execution_count": 11,
   "metadata": {
    "collapsed": false,
    "jupyter": {
     "outputs_hidden": false
    }
   },
   "outputs": [
    {
     "data": {
      "text/html": [
       "<div>\n",
       "<style scoped>\n",
       "    .dataframe tbody tr th:only-of-type {\n",
       "        vertical-align: middle;\n",
       "    }\n",
       "\n",
       "    .dataframe tbody tr th {\n",
       "        vertical-align: top;\n",
       "    }\n",
       "\n",
       "    .dataframe thead th {\n",
       "        text-align: right;\n",
       "    }\n",
       "</style>\n",
       "<table border=\"1\" class=\"dataframe\">\n",
       "  <thead>\n",
       "    <tr style=\"text-align: right;\">\n",
       "      <th></th>\n",
       "      <th>sample_id</th>\n",
       "      <th>method_id</th>\n",
       "      <th>value</th>\n",
       "      <th>flag1</th>\n",
       "    </tr>\n",
       "  </thead>\n",
       "  <tbody>\n",
       "    <tr>\n",
       "      <th>0</th>\n",
       "      <td>885239</td>\n",
       "      <td>10268</td>\n",
       "      <td>6.2</td>\n",
       "      <td>NaN</td>\n",
       "    </tr>\n",
       "    <tr>\n",
       "      <th>1</th>\n",
       "      <td>885240</td>\n",
       "      <td>10268</td>\n",
       "      <td>6.1</td>\n",
       "      <td>NaN</td>\n",
       "    </tr>\n",
       "    <tr>\n",
       "      <th>2</th>\n",
       "      <td>885241</td>\n",
       "      <td>10268</td>\n",
       "      <td>6.8</td>\n",
       "      <td>NaN</td>\n",
       "    </tr>\n",
       "    <tr>\n",
       "      <th>3</th>\n",
       "      <td>885242</td>\n",
       "      <td>10268</td>\n",
       "      <td>6.7</td>\n",
       "      <td>NaN</td>\n",
       "    </tr>\n",
       "    <tr>\n",
       "      <th>4</th>\n",
       "      <td>885243</td>\n",
       "      <td>10268</td>\n",
       "      <td>6.2</td>\n",
       "      <td>NaN</td>\n",
       "    </tr>\n",
       "  </tbody>\n",
       "</table>\n",
       "</div>"
      ],
      "text/plain": [
       "   sample_id  method_id  value  flag1\n",
       "0     885239      10268    6.2    NaN\n",
       "1     885240      10268    6.1    NaN\n",
       "2     885241      10268    6.8    NaN\n",
       "3     885242      10268    6.7    NaN\n",
       "4     885243      10268    6.2    NaN"
      ]
     },
     "execution_count": 11,
     "metadata": {},
     "output_type": "execute_result"
    }
   ],
   "source": [
    "# Get unique list of stations associated with these samples\n",
    "stn_ids = samp_df[\"station_id\"].unique()\n",
    "\n",
    "# Get list of sample_ids for these samples\n",
    "if len(stn_ids) == 1:\n",
    "    sql = (\n",
    "        \"SELECT water_sample_id, station_id, sample_date \"\n",
    "        \"FROM resa2.water_samples \"\n",
    "        \"WHERE station_id = %s\" % stn_ids[0]\n",
    "    )\n",
    "else:\n",
    "    stn_ids = str(tuple(stn_ids))\n",
    "    sql = (\n",
    "        \"SELECT water_sample_id, station_id, sample_date \"\n",
    "        \"FROM resa2.water_samples \"\n",
    "        \"WHERE station_id IN %s\" % stn_ids\n",
    "    )\n",
    "ws_df = pd.read_sql_query(sql, eng)\n",
    "\n",
    "# Join sample id to chemistry\n",
    "chem_df = pd.merge(\n",
    "    samp_df,\n",
    "    ws_df,\n",
    "    how=\"left\",\n",
    "    left_on=[\"station_id\", \"Date\"],\n",
    "    right_on=[\"station_id\", \"sample_date\"],\n",
    ")\n",
    "\n",
    "# Extract just cols of interest\n",
    "chem_df = chem_df[\n",
    "    [\n",
    "        \"water_sample_id\",\n",
    "    ]\n",
    "    + temp_meths\n",
    "]\n",
    "\n",
    "# Convert to long format\n",
    "chem_df = pd.melt(chem_df, id_vars=\"water_sample_id\")\n",
    "\n",
    "# Get method ids\n",
    "sql = (\n",
    "    \"SELECT wc_method_id, name \"\n",
    "    \"FROM resa2.wc_method_definitions \"\n",
    "    \"WHERE laboratory='ICPW'\"\n",
    ")\n",
    "meth_df = pd.read_sql_query(sql, eng)\n",
    "\n",
    "# Join to chem\n",
    "chem_df = pd.merge(chem_df, meth_df, how=\"left\", left_on=\"variable\", right_on=\"name\")\n",
    "chem_df = chem_df[[\"water_sample_id\", \"wc_method_id\", \"value\"]]\n",
    "chem_df.columns = [\"sample_id\", \"method_id\", \"value_\"]\n",
    "\n",
    "# Drop NaNs\n",
    "chem_df.dropna(how=\"any\", inplace=True)\n",
    "\n",
    "# Deal with flags\n",
    "chem_df[\"value_\"] = chem_df[\"value_\"].astype(str)\n",
    "chem_df[\"flag1\"] = chem_df.apply(f, axis=1)\n",
    "\n",
    "# Extract numeric chars\n",
    "chem_df[\"value\"] = chem_df[\"value_\"].str.extract(\"([-+]?\\d*\\.\\d+|\\d+)\", expand=True)\n",
    "chem_df[\"value\"] = chem_df[\"value\"].astype(float)\n",
    "del chem_df[\"value_\"]\n",
    "\n",
    "# Reorder cols\n",
    "chem_df = chem_df[[\"sample_id\", \"method_id\", \"value\", \"flag1\"]]\n",
    "\n",
    "# Check flags are consistent\n",
    "if not pd.isnull(chem_df[\"flag1\"]).all():\n",
    "    if not set(chem_df[\"flag1\"].unique()).issubset([\"<\", \">\", np.nan]):\n",
    "        print(\"Some flags are not valid:\")\n",
    "        print(chem_df[\"flag1\"].unique())\n",
    "\n",
    "chem_df.head()"
   ]
  },
  {
   "cell_type": "markdown",
   "metadata": {},
   "source": [
    "## 5. Load chemistry data"
   ]
  },
  {
   "cell_type": "code",
   "execution_count": 12,
   "metadata": {
    "collapsed": false,
    "jupyter": {
     "outputs_hidden": false
    }
   },
   "outputs": [],
   "source": [
    "# Improve performance by explicitly setting dtypes. See\n",
    "# https://stackoverflow.com/a/42769557/505698\n",
    "dtypes = {\n",
    "    c: types.VARCHAR(chem_df[c].str.len().max())\n",
    "    for c in chem_df.columns[chem_df.dtypes == \"object\"].tolist()\n",
    "}\n",
    "\n",
    "# Add data to 'water_chemistry_values2'\n",
    "chem_df.to_sql(\n",
    "    name=\"water_chemistry_values2\",\n",
    "    schema=\"resa2\",\n",
    "    con=eng,\n",
    "    if_exists=\"append\",\n",
    "    index=False,\n",
    "    dtype=dtypes,\n",
    ")"
   ]
  },
  {
   "cell_type": "code",
   "execution_count": 13,
   "metadata": {},
   "outputs": [
    {
     "data": {
      "text/plain": [
       "'../../../Call_for_Data_2020/data_to_upload_mar_2021/uploaded/icpw_template_ireland_2018-19_jes_tidied.xls'"
      ]
     },
     "execution_count": 13,
     "metadata": {},
     "output_type": "execute_result"
    }
   ],
   "source": [
    "# Move file to \"archive\" folder\n",
    "arch_fold = r\"../../../Call_for_Data_2020/data_to_upload_mar_2021/uploaded\"\n",
    "fname = os.path.split(in_xlsx)[1]\n",
    "dest = os.path.join(arch_fold, fname)\n",
    "shutil.move(in_xlsx, dest)"
   ]
  }
 ],
 "metadata": {
  "kernelspec": {
   "display_name": "Python 3",
   "language": "python",
   "name": "python3"
  },
  "language_info": {
   "codemirror_mode": {
    "name": "ipython",
    "version": 3
   },
   "file_extension": ".py",
   "mimetype": "text/x-python",
   "name": "python",
   "nbconvert_exporter": "python",
   "pygments_lexer": "ipython3",
   "version": "3.8.6"
  }
 },
 "nbformat": 4,
 "nbformat_minor": 4
}
