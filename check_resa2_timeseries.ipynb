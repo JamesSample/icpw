{
 "cells": [
  {
   "cell_type": "code",
   "execution_count": 20,
   "metadata": {
    "collapsed": true
   },
   "outputs": [],
   "source": [
    "%matplotlib inline\n",
    "import matplotlib.pyplot as plt, seaborn as sn, mpld3\n",
    "import pandas as pd, os, glob, numpy as np, imp\n",
    "import statsmodels.api as sm\n",
    "from statsmodels.formula.api import ols\n",
    "from sqlalchemy import create_engine\n",
    "sn.set_context('notebook')"
   ]
  },
  {
   "cell_type": "code",
   "execution_count": 21,
   "metadata": {
    "collapsed": false
   },
   "outputs": [],
   "source": [
    "# Use custom RESA2 function to connect to db\n",
    "r2_func_path = r'C:\\Data\\James_Work\\Staff\\Heleen_d_W\\ICP_Waters\\Upload_Template\\useful_resa2_code.py'\n",
    "resa2 = imp.load_source('useful_resa2_code', r2_func_path)\n",
    "\n",
    "engine, conn = resa2.connect_to_resa2()"
   ]
  },
  {
   "cell_type": "code",
   "execution_count": 22,
   "metadata": {
    "collapsed": false,
    "scrolled": false
   },
   "outputs": [],
   "source": [
    "# Specify sites and parameters of interest\n",
    "stn_list = ['2030-JAR-05',]\n",
    "par_list = ['Co',]\n",
    "\n",
    "# Period of interest\n",
    "st_dt = '1990-01-01'   # yyyy-mm-dd\n",
    "end_dt = '2017-01-10'  # yyyy-mm-dd"
   ]
  },
  {
   "cell_type": "code",
   "execution_count": 23,
   "metadata": {
    "collapsed": false
   },
   "outputs": [
    {
     "data": {
      "text/html": [
       "\n",
       "\n",
       "<style>\n",
       "\n",
       "</style>\n",
       "\n",
       "<div id=\"fig_el51085557200966903604193\"></div>\n",
       "<script>\n",
       "function mpld3_load_lib(url, callback){\n",
       "  var s = document.createElement('script');\n",
       "  s.src = url;\n",
       "  s.async = true;\n",
       "  s.onreadystatechange = s.onload = callback;\n",
       "  s.onerror = function(){console.warn(\"failed to load library \" + url);};\n",
       "  document.getElementsByTagName(\"head\")[0].appendChild(s);\n",
       "}\n",
       "\n",
       "if(typeof(mpld3) !== \"undefined\" && mpld3._mpld3IsLoaded){\n",
       "   // already loaded: just create the figure\n",
       "   !function(mpld3){\n",
       "       \n",
       "       mpld3.draw_figure(\"fig_el51085557200966903604193\", {\"axes\": [{\"xlim\": [726468.0, 736339.0], \"yscale\": \"linear\", \"axesbg\": \"#EAEAF2\", \"texts\": [{\"v_baseline\": \"auto\", \"h_anchor\": \"middle\", \"color\": \"#262626\", \"text\": \"Co (\\u00b5g/l)\", \"coordinates\": \"axes\", \"zorder\": 3, \"alpha\": 1, \"fontsize\": 11.0, \"position\": [-0.039738898973842869, 0.5], \"rotation\": -90.0, \"id\": \"el5108658997200\"}, {\"v_baseline\": \"auto\", \"h_anchor\": \"middle\", \"color\": \"#262626\", \"text\": \"Co at 2030-JAR-05\", \"coordinates\": \"axes\", \"zorder\": 3, \"alpha\": 1, \"fontsize\": 14.0, \"position\": [0.5, 1.0655860091714617], \"rotation\": -0.0, \"id\": \"el5108659226976\"}], \"zoomable\": true, \"images\": [], \"xdomain\": [[1990, 0, 1, 0, 0, 0, 0.0], [2017, 0, 10, 0, 0, 0, 0.0]], \"ylim\": [0.40000000000000002, 0.65000000000000002], \"paths\": [], \"sharey\": [], \"sharex\": [], \"axesbgalpha\": null, \"axes\": [{\"scale\": \"linear\", \"tickformat\": null, \"grid\": {\"color\": \"#FFFFFF\", \"alpha\": 1.0, \"dasharray\": \"10,0\", \"gridOn\": true}, \"fontsize\": 10.0, \"position\": \"bottom\", \"nticks\": 7, \"tickvalues\": null}, {\"scale\": \"linear\", \"tickformat\": null, \"grid\": {\"color\": \"#FFFFFF\", \"alpha\": 1.0, \"dasharray\": \"10,0\", \"gridOn\": true}, \"fontsize\": 10.0, \"position\": \"left\", \"nticks\": 6, \"tickvalues\": null}], \"lines\": [{\"color\": \"#4C72B0\", \"yindex\": 1, \"coordinates\": \"data\", \"dasharray\": \"10,0\", \"zorder\": 2, \"alpha\": 1, \"xindex\": 0, \"linewidth\": 1.75, \"data\": \"data01\", \"id\": \"el5108659040800\"}], \"markers\": [], \"id\": \"el5108656541848\", \"ydomain\": [0.40000000000000002, 0.65000000000000002], \"collections\": [], \"xscale\": \"date\", \"bbox\": [0.062092013888888881, 0.27086269884763858, 0.92290798611111113, 0.52941507893013928]}], \"height\": 160.0, \"width\": 960.0, \"plugins\": [{\"type\": \"reset\"}, {\"enabled\": false, \"button\": true, \"type\": \"zoom\"}, {\"enabled\": false, \"button\": true, \"type\": \"boxzoom\"}], \"data\": {\"data01\": [[729663.0, 0.62], [730049.0, 0.59], [730396.0, 0.54], [730759.0, 0.54], [730759.0, 0.54], [731116.0, 0.518], [731116.0, 0.518], [731483.0, 0.546], [731895.0, 0.602], [732246.0, 0.555], [732615.0, 0.628], [732952.0, 0.419], [733326.0, 0.576], [733681.0, 0.592], [734018.0, 0.455], [734425.0, 0.525], [734782.0, 0.623], [735143.0, 0.561], [735508.0, 0.545], [735875.0, 0.614], [736252.0, 0.624]]}, \"id\": \"el5108555720096\"});\n",
       "   }(mpld3);\n",
       "}else if(typeof define === \"function\" && define.amd){\n",
       "   // require.js is available: use it to load d3/mpld3\n",
       "   require.config({paths: {d3: \"https://mpld3.github.io/js/d3.v3.min\"}});\n",
       "   require([\"d3\"], function(d3){\n",
       "      window.d3 = d3;\n",
       "      mpld3_load_lib(\"https://mpld3.github.io/js/mpld3.v0.2.js\", function(){\n",
       "         \n",
       "         mpld3.draw_figure(\"fig_el51085557200966903604193\", {\"axes\": [{\"xlim\": [726468.0, 736339.0], \"yscale\": \"linear\", \"axesbg\": \"#EAEAF2\", \"texts\": [{\"v_baseline\": \"auto\", \"h_anchor\": \"middle\", \"color\": \"#262626\", \"text\": \"Co (\\u00b5g/l)\", \"coordinates\": \"axes\", \"zorder\": 3, \"alpha\": 1, \"fontsize\": 11.0, \"position\": [-0.039738898973842869, 0.5], \"rotation\": -90.0, \"id\": \"el5108658997200\"}, {\"v_baseline\": \"auto\", \"h_anchor\": \"middle\", \"color\": \"#262626\", \"text\": \"Co at 2030-JAR-05\", \"coordinates\": \"axes\", \"zorder\": 3, \"alpha\": 1, \"fontsize\": 14.0, \"position\": [0.5, 1.0655860091714617], \"rotation\": -0.0, \"id\": \"el5108659226976\"}], \"zoomable\": true, \"images\": [], \"xdomain\": [[1990, 0, 1, 0, 0, 0, 0.0], [2017, 0, 10, 0, 0, 0, 0.0]], \"ylim\": [0.40000000000000002, 0.65000000000000002], \"paths\": [], \"sharey\": [], \"sharex\": [], \"axesbgalpha\": null, \"axes\": [{\"scale\": \"linear\", \"tickformat\": null, \"grid\": {\"color\": \"#FFFFFF\", \"alpha\": 1.0, \"dasharray\": \"10,0\", \"gridOn\": true}, \"fontsize\": 10.0, \"position\": \"bottom\", \"nticks\": 7, \"tickvalues\": null}, {\"scale\": \"linear\", \"tickformat\": null, \"grid\": {\"color\": \"#FFFFFF\", \"alpha\": 1.0, \"dasharray\": \"10,0\", \"gridOn\": true}, \"fontsize\": 10.0, \"position\": \"left\", \"nticks\": 6, \"tickvalues\": null}], \"lines\": [{\"color\": \"#4C72B0\", \"yindex\": 1, \"coordinates\": \"data\", \"dasharray\": \"10,0\", \"zorder\": 2, \"alpha\": 1, \"xindex\": 0, \"linewidth\": 1.75, \"data\": \"data01\", \"id\": \"el5108659040800\"}], \"markers\": [], \"id\": \"el5108656541848\", \"ydomain\": [0.40000000000000002, 0.65000000000000002], \"collections\": [], \"xscale\": \"date\", \"bbox\": [0.062092013888888881, 0.27086269884763858, 0.92290798611111113, 0.52941507893013928]}], \"height\": 160.0, \"width\": 960.0, \"plugins\": [{\"type\": \"reset\"}, {\"enabled\": false, \"button\": true, \"type\": \"zoom\"}, {\"enabled\": false, \"button\": true, \"type\": \"boxzoom\"}], \"data\": {\"data01\": [[729663.0, 0.62], [730049.0, 0.59], [730396.0, 0.54], [730759.0, 0.54], [730759.0, 0.54], [731116.0, 0.518], [731116.0, 0.518], [731483.0, 0.546], [731895.0, 0.602], [732246.0, 0.555], [732615.0, 0.628], [732952.0, 0.419], [733326.0, 0.576], [733681.0, 0.592], [734018.0, 0.455], [734425.0, 0.525], [734782.0, 0.623], [735143.0, 0.561], [735508.0, 0.545], [735875.0, 0.614], [736252.0, 0.624]]}, \"id\": \"el5108555720096\"});\n",
       "      });\n",
       "    });\n",
       "}else{\n",
       "    // require.js not available: dynamically load d3 & mpld3\n",
       "    mpld3_load_lib(\"https://mpld3.github.io/js/d3.v3.min.js\", function(){\n",
       "         mpld3_load_lib(\"https://mpld3.github.io/js/mpld3.v0.2.js\", function(){\n",
       "                 \n",
       "                 mpld3.draw_figure(\"fig_el51085557200966903604193\", {\"axes\": [{\"xlim\": [726468.0, 736339.0], \"yscale\": \"linear\", \"axesbg\": \"#EAEAF2\", \"texts\": [{\"v_baseline\": \"auto\", \"h_anchor\": \"middle\", \"color\": \"#262626\", \"text\": \"Co (\\u00b5g/l)\", \"coordinates\": \"axes\", \"zorder\": 3, \"alpha\": 1, \"fontsize\": 11.0, \"position\": [-0.039738898973842869, 0.5], \"rotation\": -90.0, \"id\": \"el5108658997200\"}, {\"v_baseline\": \"auto\", \"h_anchor\": \"middle\", \"color\": \"#262626\", \"text\": \"Co at 2030-JAR-05\", \"coordinates\": \"axes\", \"zorder\": 3, \"alpha\": 1, \"fontsize\": 14.0, \"position\": [0.5, 1.0655860091714617], \"rotation\": -0.0, \"id\": \"el5108659226976\"}], \"zoomable\": true, \"images\": [], \"xdomain\": [[1990, 0, 1, 0, 0, 0, 0.0], [2017, 0, 10, 0, 0, 0, 0.0]], \"ylim\": [0.40000000000000002, 0.65000000000000002], \"paths\": [], \"sharey\": [], \"sharex\": [], \"axesbgalpha\": null, \"axes\": [{\"scale\": \"linear\", \"tickformat\": null, \"grid\": {\"color\": \"#FFFFFF\", \"alpha\": 1.0, \"dasharray\": \"10,0\", \"gridOn\": true}, \"fontsize\": 10.0, \"position\": \"bottom\", \"nticks\": 7, \"tickvalues\": null}, {\"scale\": \"linear\", \"tickformat\": null, \"grid\": {\"color\": \"#FFFFFF\", \"alpha\": 1.0, \"dasharray\": \"10,0\", \"gridOn\": true}, \"fontsize\": 10.0, \"position\": \"left\", \"nticks\": 6, \"tickvalues\": null}], \"lines\": [{\"color\": \"#4C72B0\", \"yindex\": 1, \"coordinates\": \"data\", \"dasharray\": \"10,0\", \"zorder\": 2, \"alpha\": 1, \"xindex\": 0, \"linewidth\": 1.75, \"data\": \"data01\", \"id\": \"el5108659040800\"}], \"markers\": [], \"id\": \"el5108656541848\", \"ydomain\": [0.40000000000000002, 0.65000000000000002], \"collections\": [], \"xscale\": \"date\", \"bbox\": [0.062092013888888881, 0.27086269884763858, 0.92290798611111113, 0.52941507893013928]}], \"height\": 160.0, \"width\": 960.0, \"plugins\": [{\"type\": \"reset\"}, {\"enabled\": false, \"button\": true, \"type\": \"zoom\"}, {\"enabled\": false, \"button\": true, \"type\": \"boxzoom\"}], \"data\": {\"data01\": [[729663.0, 0.62], [730049.0, 0.59], [730396.0, 0.54], [730759.0, 0.54], [730759.0, 0.54], [731116.0, 0.518], [731116.0, 0.518], [731483.0, 0.546], [731895.0, 0.602], [732246.0, 0.555], [732615.0, 0.628], [732952.0, 0.419], [733326.0, 0.576], [733681.0, 0.592], [734018.0, 0.455], [734425.0, 0.525], [734782.0, 0.623], [735143.0, 0.561], [735508.0, 0.545], [735875.0, 0.614], [736252.0, 0.624]]}, \"id\": \"el5108555720096\"});\n",
       "            })\n",
       "         });\n",
       "}\n",
       "</script>"
      ],
      "text/plain": [
       "<IPython.core.display.HTML object>"
      ]
     },
     "execution_count": 23,
     "metadata": {},
     "output_type": "execute_result"
    }
   ],
   "source": [
    "# Create plot\n",
    "resa2.plot_resa2_ts(stn_list, par_list, st_dt, end_dt)"
   ]
  },
  {
   "cell_type": "code",
   "execution_count": 24,
   "metadata": {
    "collapsed": false
   },
   "outputs": [
    {
     "data": {
      "text/html": [
       "\n",
       "\n",
       "<style>\n",
       "\n",
       "</style>\n",
       "\n",
       "<div id=\"fig_el51086596228806021496988\"></div>\n",
       "<script>\n",
       "function mpld3_load_lib(url, callback){\n",
       "  var s = document.createElement('script');\n",
       "  s.src = url;\n",
       "  s.async = true;\n",
       "  s.onreadystatechange = s.onload = callback;\n",
       "  s.onerror = function(){console.warn(\"failed to load library \" + url);};\n",
       "  document.getElementsByTagName(\"head\")[0].appendChild(s);\n",
       "}\n",
       "\n",
       "if(typeof(mpld3) !== \"undefined\" && mpld3._mpld3IsLoaded){\n",
       "   // already loaded: just create the figure\n",
       "   !function(mpld3){\n",
       "       \n",
       "       mpld3.draw_figure(\"fig_el51086596228806021496988\", {\"axes\": [{\"xlim\": [726468.0, 736339.0], \"yscale\": \"linear\", \"axesbg\": \"#EAEAF2\", \"texts\": [{\"v_baseline\": \"hanging\", \"h_anchor\": \"middle\", \"color\": \"#262626\", \"text\": \"sample_date\", \"coordinates\": \"axes\", \"zorder\": 3, \"alpha\": 1, \"fontsize\": 11.0, \"position\": [0.5, -0.095375854311297387], \"rotation\": -0.0, \"id\": \"el5108659137816\"}, {\"v_baseline\": \"auto\", \"h_anchor\": \"middle\", \"color\": \"#262626\", \"text\": \"Co (\\u00b5g/l)\", \"coordinates\": \"axes\", \"zorder\": 3, \"alpha\": 1, \"fontsize\": 11.0, \"position\": [-0.062206451802882846, 0.5], \"rotation\": -90.0, \"id\": \"el5108659229216\"}, {\"v_baseline\": \"auto\", \"h_anchor\": \"start\", \"color\": \"#262626\", \"text\": \"Co at 2030-JAR-05\", \"coordinates\": \"axes\", \"zorder\": 1000003.0, \"alpha\": 1, \"fontsize\": 10.0, \"position\": [0.8138223472077033, 0.9502294336877859], \"rotation\": -0.0, \"id\": \"el5108657879504\"}], \"zoomable\": true, \"images\": [], \"xdomain\": [[1990, 0, 1, 0, 0, 0, 0.0], [2017, 0, 10, 0, 0, 0, 0.0]], \"ylim\": [0.40000000000000002, 0.65000000000000002], \"paths\": [{\"edgecolor\": \"#FFFFFF\", \"facecolor\": \"#EAEAF2\", \"edgewidth\": 0.3, \"pathcodes\": [\"M\", \"L\", \"L\", \"L\", \"Z\"], \"yindex\": 1, \"coordinates\": \"axes\", \"dasharray\": \"10,0\", \"zorder\": 1000001.0, \"alpha\": 1, \"xindex\": 0, \"data\": \"data03\", \"id\": \"el5108659137760\"}], \"sharey\": [], \"sharex\": [], \"axesbgalpha\": null, \"axes\": [{\"scale\": \"linear\", \"tickformat\": null, \"grid\": {\"color\": \"#FFFFFF\", \"alpha\": 1.0, \"dasharray\": \"10,0\", \"gridOn\": true}, \"fontsize\": 10.0, \"position\": \"bottom\", \"nticks\": 7, \"tickvalues\": null}, {\"scale\": \"linear\", \"tickformat\": null, \"grid\": {\"color\": \"#FFFFFF\", \"alpha\": 1.0, \"dasharray\": \"10,0\", \"gridOn\": true}, \"fontsize\": 10.0, \"position\": \"left\", \"nticks\": 6, \"tickvalues\": null}], \"lines\": [{\"color\": \"#4C72B0\", \"yindex\": 1, \"coordinates\": \"data\", \"dasharray\": \"10,0\", \"zorder\": 2, \"alpha\": 1, \"xindex\": 0, \"linewidth\": 1.75, \"data\": \"data01\", \"id\": \"el5108659229608\"}, {\"color\": \"#4C72B0\", \"yindex\": 1, \"coordinates\": \"axes\", \"dasharray\": \"10,0\", \"zorder\": 1000002.0, \"alpha\": 1, \"xindex\": 0, \"linewidth\": 1.75, \"data\": \"data02\", \"id\": \"el5108658514944\"}], \"markers\": [], \"id\": \"el5108659741720\", \"ydomain\": [0.40000000000000002, 0.65000000000000002], \"collections\": [], \"xscale\": \"date\", \"bbox\": [0.093138020833333321, 0.13395559629813114, 0.8843619791666667, 0.82195349461095957]}], \"height\": 440.0, \"width\": 640.0, \"plugins\": [{\"type\": \"reset\"}, {\"enabled\": false, \"button\": true, \"type\": \"zoom\"}, {\"enabled\": false, \"button\": true, \"type\": \"boxzoom\"}], \"data\": {\"data02\": [[0.7588549105061422, 0.960982333816968], [0.7981173652929716, 0.960982333816968]], \"data03\": [[0.7510024195487762, 0.9324103420451413], [0.9901843863032926, 0.9324103420451413], [0.9901843863032926, 0.9846387141011685], [0.7510024195487762, 0.9846387141011685]], \"data01\": [[729663.0, 0.62], [730049.0, 0.59], [730396.0, 0.54], [730759.0, 0.54], [730759.0, 0.54], [731116.0, 0.518], [731116.0, 0.518], [731483.0, 0.546], [731895.0, 0.602], [732246.0, 0.555], [732615.0, 0.628], [732952.0, 0.419], [733326.0, 0.576], [733681.0, 0.592], [734018.0, 0.455], [734425.0, 0.525], [734782.0, 0.623], [735143.0, 0.561], [735508.0, 0.545], [735875.0, 0.614], [736252.0, 0.624]]}, \"id\": \"el5108659622880\"});\n",
       "   }(mpld3);\n",
       "}else if(typeof define === \"function\" && define.amd){\n",
       "   // require.js is available: use it to load d3/mpld3\n",
       "   require.config({paths: {d3: \"https://mpld3.github.io/js/d3.v3.min\"}});\n",
       "   require([\"d3\"], function(d3){\n",
       "      window.d3 = d3;\n",
       "      mpld3_load_lib(\"https://mpld3.github.io/js/mpld3.v0.2.js\", function(){\n",
       "         \n",
       "         mpld3.draw_figure(\"fig_el51086596228806021496988\", {\"axes\": [{\"xlim\": [726468.0, 736339.0], \"yscale\": \"linear\", \"axesbg\": \"#EAEAF2\", \"texts\": [{\"v_baseline\": \"hanging\", \"h_anchor\": \"middle\", \"color\": \"#262626\", \"text\": \"sample_date\", \"coordinates\": \"axes\", \"zorder\": 3, \"alpha\": 1, \"fontsize\": 11.0, \"position\": [0.5, -0.095375854311297387], \"rotation\": -0.0, \"id\": \"el5108659137816\"}, {\"v_baseline\": \"auto\", \"h_anchor\": \"middle\", \"color\": \"#262626\", \"text\": \"Co (\\u00b5g/l)\", \"coordinates\": \"axes\", \"zorder\": 3, \"alpha\": 1, \"fontsize\": 11.0, \"position\": [-0.062206451802882846, 0.5], \"rotation\": -90.0, \"id\": \"el5108659229216\"}, {\"v_baseline\": \"auto\", \"h_anchor\": \"start\", \"color\": \"#262626\", \"text\": \"Co at 2030-JAR-05\", \"coordinates\": \"axes\", \"zorder\": 1000003.0, \"alpha\": 1, \"fontsize\": 10.0, \"position\": [0.8138223472077033, 0.9502294336877859], \"rotation\": -0.0, \"id\": \"el5108657879504\"}], \"zoomable\": true, \"images\": [], \"xdomain\": [[1990, 0, 1, 0, 0, 0, 0.0], [2017, 0, 10, 0, 0, 0, 0.0]], \"ylim\": [0.40000000000000002, 0.65000000000000002], \"paths\": [{\"edgecolor\": \"#FFFFFF\", \"facecolor\": \"#EAEAF2\", \"edgewidth\": 0.3, \"pathcodes\": [\"M\", \"L\", \"L\", \"L\", \"Z\"], \"yindex\": 1, \"coordinates\": \"axes\", \"dasharray\": \"10,0\", \"zorder\": 1000001.0, \"alpha\": 1, \"xindex\": 0, \"data\": \"data03\", \"id\": \"el5108659137760\"}], \"sharey\": [], \"sharex\": [], \"axesbgalpha\": null, \"axes\": [{\"scale\": \"linear\", \"tickformat\": null, \"grid\": {\"color\": \"#FFFFFF\", \"alpha\": 1.0, \"dasharray\": \"10,0\", \"gridOn\": true}, \"fontsize\": 10.0, \"position\": \"bottom\", \"nticks\": 7, \"tickvalues\": null}, {\"scale\": \"linear\", \"tickformat\": null, \"grid\": {\"color\": \"#FFFFFF\", \"alpha\": 1.0, \"dasharray\": \"10,0\", \"gridOn\": true}, \"fontsize\": 10.0, \"position\": \"left\", \"nticks\": 6, \"tickvalues\": null}], \"lines\": [{\"color\": \"#4C72B0\", \"yindex\": 1, \"coordinates\": \"data\", \"dasharray\": \"10,0\", \"zorder\": 2, \"alpha\": 1, \"xindex\": 0, \"linewidth\": 1.75, \"data\": \"data01\", \"id\": \"el5108659229608\"}, {\"color\": \"#4C72B0\", \"yindex\": 1, \"coordinates\": \"axes\", \"dasharray\": \"10,0\", \"zorder\": 1000002.0, \"alpha\": 1, \"xindex\": 0, \"linewidth\": 1.75, \"data\": \"data02\", \"id\": \"el5108658514944\"}], \"markers\": [], \"id\": \"el5108659741720\", \"ydomain\": [0.40000000000000002, 0.65000000000000002], \"collections\": [], \"xscale\": \"date\", \"bbox\": [0.093138020833333321, 0.13395559629813114, 0.8843619791666667, 0.82195349461095957]}], \"height\": 440.0, \"width\": 640.0, \"plugins\": [{\"type\": \"reset\"}, {\"enabled\": false, \"button\": true, \"type\": \"zoom\"}, {\"enabled\": false, \"button\": true, \"type\": \"boxzoom\"}], \"data\": {\"data02\": [[0.7588549105061422, 0.960982333816968], [0.7981173652929716, 0.960982333816968]], \"data03\": [[0.7510024195487762, 0.9324103420451413], [0.9901843863032926, 0.9324103420451413], [0.9901843863032926, 0.9846387141011685], [0.7510024195487762, 0.9846387141011685]], \"data01\": [[729663.0, 0.62], [730049.0, 0.59], [730396.0, 0.54], [730759.0, 0.54], [730759.0, 0.54], [731116.0, 0.518], [731116.0, 0.518], [731483.0, 0.546], [731895.0, 0.602], [732246.0, 0.555], [732615.0, 0.628], [732952.0, 0.419], [733326.0, 0.576], [733681.0, 0.592], [734018.0, 0.455], [734425.0, 0.525], [734782.0, 0.623], [735143.0, 0.561], [735508.0, 0.545], [735875.0, 0.614], [736252.0, 0.624]]}, \"id\": \"el5108659622880\"});\n",
       "      });\n",
       "    });\n",
       "}else{\n",
       "    // require.js not available: dynamically load d3 & mpld3\n",
       "    mpld3_load_lib(\"https://mpld3.github.io/js/d3.v3.min.js\", function(){\n",
       "         mpld3_load_lib(\"https://mpld3.github.io/js/mpld3.v0.2.js\", function(){\n",
       "                 \n",
       "                 mpld3.draw_figure(\"fig_el51086596228806021496988\", {\"axes\": [{\"xlim\": [726468.0, 736339.0], \"yscale\": \"linear\", \"axesbg\": \"#EAEAF2\", \"texts\": [{\"v_baseline\": \"hanging\", \"h_anchor\": \"middle\", \"color\": \"#262626\", \"text\": \"sample_date\", \"coordinates\": \"axes\", \"zorder\": 3, \"alpha\": 1, \"fontsize\": 11.0, \"position\": [0.5, -0.095375854311297387], \"rotation\": -0.0, \"id\": \"el5108659137816\"}, {\"v_baseline\": \"auto\", \"h_anchor\": \"middle\", \"color\": \"#262626\", \"text\": \"Co (\\u00b5g/l)\", \"coordinates\": \"axes\", \"zorder\": 3, \"alpha\": 1, \"fontsize\": 11.0, \"position\": [-0.062206451802882846, 0.5], \"rotation\": -90.0, \"id\": \"el5108659229216\"}, {\"v_baseline\": \"auto\", \"h_anchor\": \"start\", \"color\": \"#262626\", \"text\": \"Co at 2030-JAR-05\", \"coordinates\": \"axes\", \"zorder\": 1000003.0, \"alpha\": 1, \"fontsize\": 10.0, \"position\": [0.8138223472077033, 0.9502294336877859], \"rotation\": -0.0, \"id\": \"el5108657879504\"}], \"zoomable\": true, \"images\": [], \"xdomain\": [[1990, 0, 1, 0, 0, 0, 0.0], [2017, 0, 10, 0, 0, 0, 0.0]], \"ylim\": [0.40000000000000002, 0.65000000000000002], \"paths\": [{\"edgecolor\": \"#FFFFFF\", \"facecolor\": \"#EAEAF2\", \"edgewidth\": 0.3, \"pathcodes\": [\"M\", \"L\", \"L\", \"L\", \"Z\"], \"yindex\": 1, \"coordinates\": \"axes\", \"dasharray\": \"10,0\", \"zorder\": 1000001.0, \"alpha\": 1, \"xindex\": 0, \"data\": \"data03\", \"id\": \"el5108659137760\"}], \"sharey\": [], \"sharex\": [], \"axesbgalpha\": null, \"axes\": [{\"scale\": \"linear\", \"tickformat\": null, \"grid\": {\"color\": \"#FFFFFF\", \"alpha\": 1.0, \"dasharray\": \"10,0\", \"gridOn\": true}, \"fontsize\": 10.0, \"position\": \"bottom\", \"nticks\": 7, \"tickvalues\": null}, {\"scale\": \"linear\", \"tickformat\": null, \"grid\": {\"color\": \"#FFFFFF\", \"alpha\": 1.0, \"dasharray\": \"10,0\", \"gridOn\": true}, \"fontsize\": 10.0, \"position\": \"left\", \"nticks\": 6, \"tickvalues\": null}], \"lines\": [{\"color\": \"#4C72B0\", \"yindex\": 1, \"coordinates\": \"data\", \"dasharray\": \"10,0\", \"zorder\": 2, \"alpha\": 1, \"xindex\": 0, \"linewidth\": 1.75, \"data\": \"data01\", \"id\": \"el5108659229608\"}, {\"color\": \"#4C72B0\", \"yindex\": 1, \"coordinates\": \"axes\", \"dasharray\": \"10,0\", \"zorder\": 1000002.0, \"alpha\": 1, \"xindex\": 0, \"linewidth\": 1.75, \"data\": \"data02\", \"id\": \"el5108658514944\"}], \"markers\": [], \"id\": \"el5108659741720\", \"ydomain\": [0.40000000000000002, 0.65000000000000002], \"collections\": [], \"xscale\": \"date\", \"bbox\": [0.093138020833333321, 0.13395559629813114, 0.8843619791666667, 0.82195349461095957]}], \"height\": 440.0, \"width\": 640.0, \"plugins\": [{\"type\": \"reset\"}, {\"enabled\": false, \"button\": true, \"type\": \"zoom\"}, {\"enabled\": false, \"button\": true, \"type\": \"boxzoom\"}], \"data\": {\"data02\": [[0.7588549105061422, 0.960982333816968], [0.7981173652929716, 0.960982333816968]], \"data03\": [[0.7510024195487762, 0.9324103420451413], [0.9901843863032926, 0.9324103420451413], [0.9901843863032926, 0.9846387141011685], [0.7510024195487762, 0.9846387141011685]], \"data01\": [[729663.0, 0.62], [730049.0, 0.59], [730396.0, 0.54], [730759.0, 0.54], [730759.0, 0.54], [731116.0, 0.518], [731116.0, 0.518], [731483.0, 0.546], [731895.0, 0.602], [732246.0, 0.555], [732615.0, 0.628], [732952.0, 0.419], [733326.0, 0.576], [733681.0, 0.592], [734018.0, 0.455], [734425.0, 0.525], [734782.0, 0.623], [735143.0, 0.561], [735508.0, 0.545], [735875.0, 0.614], [736252.0, 0.624]]}, \"id\": \"el5108659622880\"});\n",
       "            })\n",
       "         });\n",
       "}\n",
       "</script>"
      ],
      "text/plain": [
       "<IPython.core.display.HTML object>"
      ]
     },
     "execution_count": 24,
     "metadata": {},
     "output_type": "execute_result"
    }
   ],
   "source": [
    "# Create plot\n",
    "resa2.plot_resa2_ts_single(stn_list, par_list, st_dt, end_dt)"
   ]
  }
 ],
 "metadata": {
  "kernelspec": {
   "display_name": "Python 2",
   "language": "python",
   "name": "python2"
  },
  "language_info": {
   "codemirror_mode": {
    "name": "ipython",
    "version": 2
   },
   "file_extension": ".py",
   "mimetype": "text/x-python",
   "name": "python",
   "nbconvert_exporter": "python",
   "pygments_lexer": "ipython2",
   "version": "2.7.10"
  }
 },
 "nbformat": 4,
 "nbformat_minor": 0
}
